{
  "nbformat": 4,
  "nbformat_minor": 0,
  "metadata": {
    "colab": {
      "private_outputs": true,
      "provenance": []
    },
    "kernelspec": {
      "name": "python3",
      "display_name": "Python 3"
    },
    "language_info": {
      "name": "python"
    }
  },
  "cells": [
    {
      "cell_type": "code",
      "execution_count": null,
      "metadata": {
        "id": "1HxWHgIPIJmb"
      },
      "outputs": [],
      "source": [
        "# Write a program to predict prices of a stock using simple RNN"
      ]
    },
    {
      "cell_type": "code",
      "source": [
        "import numpy as np\n",
        "import pandas as pd\n",
        "import matplotlib.pyplot as plt\n",
        "from sklearn.preprocessing import MinMaxScaler\n",
        "from sklearn.metrics import mean_squared_error\n",
        "from tensorflow.keras.models import Sequential\n",
        "from tensorflow.keras.layers import SimpleRNN,Dense\n",
        "from sklearn.model_selection import train_test_split"
      ],
      "metadata": {
        "id": "xu52XT-RIs7y"
      },
      "execution_count": null,
      "outputs": []
    },
    {
      "cell_type": "code",
      "source": [
        "df = pd.read_csv(\"/content/TESLA.csv\")\n",
        "df.head()\n"
      ],
      "metadata": {
        "id": "-5JSMW1BKGIj"
      },
      "execution_count": null,
      "outputs": []
    },
    {
      "cell_type": "code",
      "source": [
        "df.info()"
      ],
      "metadata": {
        "id": "-sQwZnzHKN2x"
      },
      "execution_count": null,
      "outputs": []
    },
    {
      "cell_type": "code",
      "source": [
        "# Converting Strings to Date format\n",
        "df['Date'] = pd.to_datetime(df['Date'],dayfirst = True)\n",
        "df.info()"
      ],
      "metadata": {
        "id": "XyhFuSIWMQY9"
      },
      "execution_count": null,
      "outputs": []
    },
    {
      "cell_type": "code",
      "source": [
        "# When the dataset is a timeseries , the rows must be in chronological order\n",
        "# for time based analysis\n",
        "# we will sort the dataset\n",
        "df.sort_values(\"Date\",inplace = True)\n",
        "df.head()"
      ],
      "metadata": {
        "id": "lmJ12Ew7M_Nn"
      },
      "execution_count": null,
      "outputs": []
    },
    {
      "cell_type": "code",
      "source": [
        "# Select the output column which is to be predicted\n",
        "# we will select the close column\n",
        "data = df[[\"Close\"]].values"
      ],
      "metadata": {
        "id": "_oiGvK7hOF_V"
      },
      "execution_count": null,
      "outputs": []
    },
    {
      "cell_type": "code",
      "source": [
        "# Normalise the data\n",
        "scaler = MinMaxScaler(feature_range=(0,1))\n",
        "scaled_data = scaler.fit_transform(data)"
      ],
      "metadata": {
        "id": "wliF2KbcOYsN"
      },
      "execution_count": null,
      "outputs": []
    },
    {
      "cell_type": "code",
      "source": [
        "# creating the sequences\n",
        "def create_sequences(data, seq_length = 60):\n",
        "  X,y = [],[]\n",
        "  for i in range(seq_length,len(data)):\n",
        "    X.append(data[i-seq_length:i,0])\n",
        "    y.append(data[i,0])\n",
        "\n",
        "  return np.array(X),np.array(y)"
      ],
      "metadata": {
        "id": "lUyWWRHaOu96"
      },
      "execution_count": null,
      "outputs": []
    },
    {
      "cell_type": "code",
      "source": [
        "# Calling the function and storing the values in X, y\n",
        "sequence_length = 60\n",
        "X, y = create_sequences(scaled_data, sequence_length)\n",
        "X = X.reshape((X.shape[0],X.shape[1],1))"
      ],
      "metadata": {
        "id": "Jx_J3JVyQlw7"
      },
      "execution_count": null,
      "outputs": []
    },
    {
      "cell_type": "code",
      "source": [
        "# Train test split\n",
        "X_train, X_test, y_train, y_test = train_test_split(X,y, test_size = 0.2, shuffle = False)"
      ],
      "metadata": {
        "id": "n1S9lcY4W6Dp"
      },
      "execution_count": null,
      "outputs": []
    },
    {
      "cell_type": "code",
      "source": [
        "# Building the model\n",
        "model = Sequential([\n",
        "    SimpleRNN(50, activation='tanh',input_shape=(X_train.shape[1],1)),\n",
        "    Dense(1) # Output is a single value\n",
        "])\n"
      ],
      "metadata": {
        "id": "ccR-xnf_XlYd"
      },
      "execution_count": null,
      "outputs": []
    },
    {
      "cell_type": "code",
      "source": [
        "# Compile the model\n",
        "model.compile(optimizer='adam',loss = 'mse')"
      ],
      "metadata": {
        "id": "5yAVFVdaYZhp"
      },
      "execution_count": null,
      "outputs": []
    },
    {
      "cell_type": "code",
      "source": [
        "# Print model summary\n",
        "model.summary()"
      ],
      "metadata": {
        "id": "f9JwuHIeY9Fi"
      },
      "execution_count": null,
      "outputs": []
    },
    {
      "cell_type": "code",
      "source": [
        "# Train the model\n",
        "model.fit(X_train, y_train, epochs = 20, batch_size = 32, validation_data = (X_test, y_test))"
      ],
      "metadata": {
        "id": "86Mj2RmBZAEo"
      },
      "execution_count": null,
      "outputs": []
    },
    {
      "cell_type": "code",
      "source": [
        "# Print and evaluate on Test set\n",
        "predicted = model.predict(X_test)\n",
        "predicted_prices = scaler.inverse_transform(predicted.reshape(-1,1))\n",
        "actual_prices = scaler.inverse_transform(y_test.reshape(-1,1))"
      ],
      "metadata": {
        "id": "FADKWrgFZe0E"
      },
      "execution_count": null,
      "outputs": []
    },
    {
      "cell_type": "code",
      "source": [
        "# Printing predicted prices and actual prices\n",
        "print(\"Predicted Prices are:\",predicted_prices)\n",
        "print(\"Actual Price is:\", actual_prices)"
      ],
      "metadata": {
        "id": "ojWfzokMaYSt"
      },
      "execution_count": null,
      "outputs": []
    },
    {
      "cell_type": "code",
      "source": [],
      "metadata": {
        "id": "Y6r98LaqaqbG"
      },
      "execution_count": null,
      "outputs": []
    }
  ]
}