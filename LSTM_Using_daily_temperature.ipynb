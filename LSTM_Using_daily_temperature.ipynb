{
  "nbformat": 4,
  "nbformat_minor": 0,
  "metadata": {
    "colab": {
      "private_outputs": true,
      "provenance": [],
      "authorship_tag": "ABX9TyO8Jrq48j5FXg8ygsy29qGw",
      "include_colab_link": true
    },
    "kernelspec": {
      "name": "python3",
      "display_name": "Python 3"
    },
    "language_info": {
      "name": "python"
    }
  },
  "cells": [
    {
      "cell_type": "markdown",
      "metadata": {
        "id": "view-in-github",
        "colab_type": "text"
      },
      "source": [
        "<a href=\"https://colab.research.google.com/github/poralapoornachandra/Recurrent-Neural-Networks/blob/main/LSTM_Using_daily_temperature.ipynb\" target=\"_parent\"><img src=\"https://colab.research.google.com/assets/colab-badge.svg\" alt=\"Open In Colab\"/></a>"
      ]
    },
    {
      "cell_type": "code",
      "execution_count": null,
      "metadata": {
        "id": "OEKRF6Cwo5WN"
      },
      "outputs": [],
      "source": [
        "import numpy as np\n",
        "import pandas as pd\n",
        "import matplotlib.pyplot as plt\n",
        "from sklearn.preprocessing import MinMaxScaler\n",
        "from sklearn.model_selection import train_test_split\n",
        "from tensorflow.keras.models import Sequential\n",
        "from tensorflow.keras.layers import LSTM, Dense"
      ]
    },
    {
      "cell_type": "code",
      "source": [
        "# Step-1 load the dataset\n",
        "# Parse_dates : Used to automatoically converted a string object in to a datetime object\n",
        "df = pd.read_csv(\"/content/daily_minimum_temps.csv\", parse_dates = [\"Date\"],index_col = \"Date\")"
      ],
      "metadata": {
        "id": "uBukwIPyproN"
      },
      "execution_count": null,
      "outputs": []
    },
    {
      "cell_type": "code",
      "source": [
        "df.head()"
      ],
      "metadata": {
        "id": "QkHlgYvspwGf"
      },
      "execution_count": null,
      "outputs": []
    },
    {
      "cell_type": "code",
      "source": [
        "df.info()"
      ],
      "metadata": {
        "id": "LOWcx7bvqH6Z"
      },
      "execution_count": null,
      "outputs": []
    },
    {
      "cell_type": "code",
      "source": [
        "# Clean the data\n",
        "df[\"Temp\"] = pd.to_numeric(df[\"Temp\"],errors = 'coerce') # coerce = ignore missing values\n",
        "df = df.dropna()"
      ],
      "metadata": {
        "id": "ohXaXejeqJTy"
      },
      "execution_count": null,
      "outputs": []
    },
    {
      "cell_type": "code",
      "source": [
        "# Step - 3 Normalise the temperature values\n",
        "scaler = MinMaxScaler()\n",
        "data_scaled = scaler.fit_transform(df[\"Temp\"].values.reshape(-1,1))\n",
        "data_scaled"
      ],
      "metadata": {
        "id": "o4cJ18-mqpmM"
      },
      "execution_count": null,
      "outputs": []
    },
    {
      "cell_type": "code",
      "source": [
        "# Creating sequence is the most important step in RNN\n",
        "# Step -4 :- Create input sequences for LSTM\n",
        "def create_sequences(data, seq_length):\n",
        "  X, y = [],[]\n",
        "  for i in range(len(data) - seq_length):\n",
        "    X.append(data[i:i+seq_length])\n",
        "    y.append(data[i+seq_length])\n",
        "\n",
        "\n",
        "  return np.array(X),np.array(y)"
      ],
      "metadata": {
        "id": "bp46Om6urv5A"
      },
      "execution_count": null,
      "outputs": []
    },
    {
      "cell_type": "code",
      "source": [
        "seq_length = 30\n",
        "X,y = create_sequences(data_scaled, seq_length)"
      ],
      "metadata": {
        "id": "sEw_W7GQuvFa"
      },
      "execution_count": null,
      "outputs": []
    },
    {
      "cell_type": "code",
      "source": [
        "# Step -5 Train-test-split (no splitting for time series)\n",
        "X_train, X_test, y_train, y_test = train_test_split(X, y, test_size = 0.2, shuffle = False)"
      ],
      "metadata": {
        "id": "pytRyBBXvCbs"
      },
      "execution_count": null,
      "outputs": []
    },
    {
      "cell_type": "code",
      "source": [
        "# step - 6 : Build the LSTM model\n",
        "model = Sequential([\n",
        "    LSTM(64, activation = 'relu', input_shape = (seq_length,1)),\n",
        "    Dense(1) # Output is a single value\n",
        "])"
      ],
      "metadata": {
        "id": "NR5BRhdnvUX3"
      },
      "execution_count": null,
      "outputs": []
    },
    {
      "cell_type": "code",
      "source": [
        "model.compile(optimizer='adam', loss = 'mse')"
      ],
      "metadata": {
        "id": "PTlZ5AP-vz-l"
      },
      "execution_count": null,
      "outputs": []
    },
    {
      "cell_type": "code",
      "source": [
        "model.summary()"
      ],
      "metadata": {
        "id": "pwcQCr9dwBLw"
      },
      "execution_count": null,
      "outputs": []
    },
    {
      "cell_type": "code",
      "source": [
        "# Step - 7: Train the model\n",
        "model.fit(X_train,y_train, epochs = 20, batch_size = 32)"
      ],
      "metadata": {
        "id": "-eUj2iQ6wRvD"
      },
      "execution_count": null,
      "outputs": []
    },
    {
      "cell_type": "code",
      "source": [
        "# Step - 8 :- Make predictions on the test set\n",
        "y_pred_scaled = model.predict(X_test)"
      ],
      "metadata": {
        "id": "5DE6CMQKzikZ"
      },
      "execution_count": null,
      "outputs": []
    },
    {
      "cell_type": "code",
      "source": [
        "# Clip predictions to [0,1] before inverse transform\n",
        "y_pred_scaled = np.clip(y_pred_scaled, 0, 1)\n",
        "y_pred = scaler.inverse_transform(y_pred_scaled)\n",
        "y_test_actual = scaler.inverse_transform(y_test)"
      ],
      "metadata": {
        "id": "DItDWfssy2BL"
      },
      "execution_count": null,
      "outputs": []
    },
    {
      "cell_type": "code",
      "source": [
        "# Step - 9 plot predictions\n",
        "plt.figure(figsize = (12,6))\n",
        "plt.plot(y_test_actual,label = \"Actual Temperatures\")\n",
        "plt.plot(y_pred, label = \"Predicted Temperatures\")\n",
        "plt.title(\"Daily Min Temperature Forecasting (LSTM)\")\n",
        "plt.xlabel(\"Time\")\n",
        "plt.ylabel(\"Temperature\")\n",
        "plt.legend()\n",
        "plt.title(\"Temperature Prediction\")"
      ],
      "metadata": {
        "id": "GuOfj9G0zsoW"
      },
      "execution_count": null,
      "outputs": []
    },
    {
      "cell_type": "code",
      "source": [],
      "metadata": {
        "id": "aRv5hDHZ0iej"
      },
      "execution_count": null,
      "outputs": []
    }
  ]
}